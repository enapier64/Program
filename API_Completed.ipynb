{
 "cells": [
  {
   "cell_type": "code",
   "execution_count": null,
   "id": "9b3685a2-38f8-4afc-b206-c7b808c0a282",
   "metadata": {},
   "outputs": [],
   "source": [
    "#imports\n",
    "import os\n",
    "from dotenv import load_dotenv\n",
    "import json\n",
    "import requests"
   ]
  },
  {
   "cell_type": "code",
   "execution_count": null,
   "id": "fee25f96-6100-4aa3-963c-2174354f1e19",
   "metadata": {},
   "outputs": [],
   "source": [
    "#get api key\n",
    "load_dotenv()\n",
    "API_KEY = os.getenv('NASDAQ_API_KEY')\n",
    "\n",
    "print(API_KEY)\n",
    "\n",
    "#request modules\n",
    "use_url = f\"https://data.nasdaq.com/api/v3/datasets/FSE/AFX_X/data.json?start_date=2017-01-01&end_date=2017-12-31&api_key={API_KEY}\"\n",
    "r = requests.get(use_url)"
   ]
  },
  {
   "cell_type": "code",
   "execution_count": null,
   "id": "954ef6a6-4381-46c7-8124-99a70805e118",
   "metadata": {},
   "outputs": [],
   "source": [
    "# Now, call the Nasdaq API and pull out a small sample of the data (only one day) to get a glimpse\n",
    "# into the JSON structure that will be returned\n",
    "data = r.json()\n",
    "if 'dataset_data' in data and 'data' in data['dataset_data']:\n",
    "        single_day_data = data['dataset_data']['data'][0]  # Get the first day as an example\n",
    "        column_names = data['dataset_data']['column_names']\n",
    "        print(single_day_data)\n",
    "\n",
    "# Inspect the JSON structure of the object you created, and take note of how nested it is,\n",
    "# as well as the overall structure\n",
    "# Print the JSON structure in a readable format\n",
    "print(json.dumps(data, indent=4))"
   ]
  },
  {
   "cell_type": "code",
   "execution_count": null,
   "id": "e866766f-dc4b-4356-825a-821c5df7ce1e",
   "metadata": {},
   "outputs": [],
   "source": [
    "opening_prices = [day[1] for day in data['dataset_data']['data'] if day[1] is not None]\n",
    "highest_opening_price = max(opening_prices)\n",
    "lowest_opening_price = min(opening_prices)\n",
    "\n",
    "daily_price_changes = [day[2] - day[3] for day in data['dataset_data']['data']]\n",
    "largest_daily_change = max(daily_price_changes)\n",
    "\n",
    "closing_prices = [day[4] for day in data['dataset_data']['data']]\n",
    "largest_change_between_days = max(abs(prev - curr) for prev, curr in zip(closing_prices[:-1], closing_prices[1:]))\n",
    "\n",
    "trading_volumes = [day[6] for day in data['dataset_data']['data']]\n",
    "average_daily_volume = sum(trading_volumes) / len(trading_volumes)\n",
    "\n",
    "def calculate_median(values):\n",
    "    sorted_values = sorted(values)\n",
    "    n = len(sorted_values)\n",
    "    if n % 2 == 0:\n",
    "        return (sorted_values[n // 2 - 1] + sorted_values[n // 2]) / 2\n",
    "    else:\n",
    "        return sorted_values[n // 2]\n",
    "\n",
    "median_trading_volume = calculate_median(trading_volumes)\n",
    "\n",
    "print(f\"3a: Highest opening price: {highest_opening_price}\")\n",
    "print(f\"3b: Lowest opening price: {lowest_opening_price}\")\n",
    "print(f\"4: Largest change in any one day (based on High and Low): {largest_daily_change}\")\n",
    "print(f\"5: Largest change between any two days (based on Closing Price): {largest_change_between_days}\")\n",
    "print(f\"6: Average daily trading volume: {average_daily_volume}\")\n",
    "print(f\"7: Median trading volume: {median_trading_volume}\")"
   ]
  },
  {
   "cell_type": "markdown",
   "id": "709cceff-77f7-4090-9b9c-3cee9cec3970",
   "metadata": {},
   "source": [
    "These are your tasks for this mini project:\n",
    "\n",
    "1. Collect data from the Franfurt Stock Exchange, for the ticker AFX_X, for the whole year 2017 (keep in mind that the date format is YYYY-MM-DD).\n",
    "2. Convert the returned JSON object into a Python dictionary.\n",
    "3. Calculate what the highest and lowest opening prices were for the stock in this period.\n",
    "4. What was the largest change in any one day (based on High and Low price)?\n",
    "5. What was the largest change between any two days (based on Closing Price)?\n",
    "6. What was the average daily trading volume during this year?\n",
    "7. (Optional) What was the median trading volume during this year. (Note: you may need to implement your own function for calculating the median.)"
   ]
  }
 ],
 "metadata": {
  "kernelspec": {
   "display_name": "Python 3 (ipykernel)",
   "language": "python",
   "name": "python3"
  },
  "language_info": {
   "codemirror_mode": {
    "name": "ipython",
    "version": 3
   },
   "file_extension": ".py",
   "mimetype": "text/x-python",
   "name": "python",
   "nbconvert_exporter": "python",
   "pygments_lexer": "ipython3",
   "version": "3.10.13"
  }
 },
 "nbformat": 4,
 "nbformat_minor": 5
}
